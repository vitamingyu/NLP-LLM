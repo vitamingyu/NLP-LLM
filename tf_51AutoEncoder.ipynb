{
  "nbformat": 4,
  "nbformat_minor": 0,
  "metadata": {
    "colab": {
      "provenance": [],
      "authorship_tag": "ABX9TyO2Y7LRqBBlaR/w4iVhgPtp",
      "include_colab_link": true
    },
    "kernelspec": {
      "name": "python3",
      "display_name": "Python 3"
    },
    "language_info": {
      "name": "python"
    }
  },
  "cells": [
    {
      "cell_type": "markdown",
      "metadata": {
        "id": "view-in-github",
        "colab_type": "text"
      },
      "source": [
        "<a href=\"https://colab.research.google.com/github/vitamingyu/NLP-LLM/blob/main/tf_51AutoEncoder.ipynb\" target=\"_parent\"><img src=\"https://colab.research.google.com/assets/colab-badge.svg\" alt=\"Open In Colab\"/></a>"
      ]
    },
    {
      "cell_type": "code",
      "execution_count": 2,
      "metadata": {
        "id": "nnLxvTCCTyDw"
      },
      "outputs": [],
      "source": [
        "# 변이형 오토인코더(Variational AutoEncoder)\n",
        "# 오토인코더(AutoEncoder, AE)는 잠재 공간의 값을 고정된 값(표현벡터)으로 나타냈지만\n",
        "# 변이형 오토인코더(VAE)는 잠재 공간의 값을 가우시안 확률분포(정규분포) 값의 범위로 제공한다.\n",
        "# 즉, 잠재 공간의 값은 평균과 분산으로 매핑된다.\n",
        "# 이미지 데이터가 충분하지 않은 분야에서 활용\n",
        "\n",
        "from keras.datasets import mnist\n",
        "from keras.models import Sequential, Model\n",
        "from keras.layers import Dense, Conv2D, MaxPooling2D, UpSampling2D\n",
        "import matplotlib.pyplot as plt\n",
        "import numpy as np"
      ]
    },
    {
      "cell_type": "code",
      "source": [
        "(x_train,_),(x_test,_) = mnist.load_data()\n",
        "x_train = x_train.reshape(x_train.shape[0], 28, 28, 1).astype('float32') / 255\n",
        "x_train = x_test.reshape(x_test.shape[0], 28, 28, 1).astype('float32') / 255\n",
        "\n",
        "autoencoder = Sequential()\n",
        "\n",
        "# encoder : 모델은 고차원 입력 데이터를 저차원 표현벡터로 압축. (차원축소, 특징 추출)\n",
        "autoencoder.add(Conv2D(32, kernel_size=3, padding='same', input_shape=(28, 28, 1), activation='relu'))\n",
        "autoencoder.add(MaxPooling2D(pool_size=2, padding='same'))\n",
        "autoencoder.add(Conv2D(16, kernel_size=3, padding='same', activation='relu'))\n",
        "autoencoder.add(MaxPooling2D(pool_size=2, padding='same'))\n",
        "autoencoder.add(Conv2D(8, kernel_size=3, padding='same', activation='relu'))\n",
        "\n",
        "# decoder : 모델은 주어진 표현벡터를 원본차원 압축을 해제. (차원복구)\n",
        "autoencoder.add(Conv2D(8, kernel_size=3, padding='same', activation='relu'))\n",
        "autoencoder.add(UpSampling2D())\n",
        "autoencoder.add(Conv2D(16, kernel_size=3, padding='same', activation='relu'))\n",
        "autoencoder.add(UpSampling2D())\n",
        "autoencoder.add(Conv2D(32, kernel_size=3, padding='same', activation='relu'))\n",
        "autoencoder.add(Conv2D(1, kernel_size=3, padding='same', activation='sigmoid'))\n",
        "\n",
        "print(autoencoder.summary())"
      ],
      "metadata": {
        "colab": {
          "base_uri": "https://localhost:8080/"
        },
        "id": "yO4iNor3UvAH",
        "outputId": "f738dcdc-064a-4d2f-8f25-b430837261b7"
      },
      "execution_count": 4,
      "outputs": [
        {
          "output_type": "stream",
          "name": "stdout",
          "text": [
            "Model: \"sequential_1\"\n",
            "_________________________________________________________________\n",
            " Layer (type)                Output Shape              Param #   \n",
            "=================================================================\n",
            " conv2d_7 (Conv2D)           (None, 28, 28, 32)        320       \n",
            "                                                                 \n",
            " max_pooling2d_2 (MaxPoolin  (None, 14, 14, 32)        0         \n",
            " g2D)                                                            \n",
            "                                                                 \n",
            " conv2d_8 (Conv2D)           (None, 14, 14, 16)        4624      \n",
            "                                                                 \n",
            " max_pooling2d_3 (MaxPoolin  (None, 7, 7, 16)          0         \n",
            " g2D)                                                            \n",
            "                                                                 \n",
            " conv2d_9 (Conv2D)           (None, 7, 7, 8)           1160      \n",
            "                                                                 \n",
            " conv2d_10 (Conv2D)          (None, 7, 7, 8)           584       \n",
            "                                                                 \n",
            " up_sampling2d_2 (UpSamplin  (None, 14, 14, 8)         0         \n",
            " g2D)                                                            \n",
            "                                                                 \n",
            " conv2d_11 (Conv2D)          (None, 14, 14, 16)        1168      \n",
            "                                                                 \n",
            " up_sampling2d_3 (UpSamplin  (None, 28, 28, 16)        0         \n",
            " g2D)                                                            \n",
            "                                                                 \n",
            " conv2d_12 (Conv2D)          (None, 28, 28, 32)        4640      \n",
            "                                                                 \n",
            " conv2d_13 (Conv2D)          (None, 28, 28, 1)         289       \n",
            "                                                                 \n",
            "=================================================================\n",
            "Total params: 12785 (49.94 KB)\n",
            "Trainable params: 12785 (49.94 KB)\n",
            "Non-trainable params: 0 (0.00 Byte)\n",
            "_________________________________________________________________\n",
            "None\n"
          ]
        }
      ]
    },
    {
      "cell_type": "code",
      "source": [
        "autoencoder.compile(optimizer='adam', loss='binary_crossentropy')\n",
        "history = autoencoder.fit(x_train, x_train, epochs=30, batch_size=128, validation_data=(x_test, x_test), verbose=2)\n",
        "print(history.history)"
      ],
      "metadata": {
        "colab": {
          "base_uri": "https://localhost:8080/"
        },
        "id": "CEHkHEKjXtZr",
        "outputId": "f4ca0b0e-93a1-44e0-df62-7dc1c46f582a"
      },
      "execution_count": 7,
      "outputs": [
        {
          "output_type": "stream",
          "name": "stdout",
          "text": [
            "Epoch 1/30\n",
            "79/79 - 44s - loss: 0.3430 - val_loss: -4.6572e+02 - 44s/epoch - 551ms/step\n",
            "Epoch 2/30\n",
            "79/79 - 30s - loss: 0.1237 - val_loss: -5.0155e+02 - 30s/epoch - 380ms/step\n",
            "Epoch 3/30\n",
            "79/79 - 39s - loss: 0.0986 - val_loss: -5.0581e+02 - 39s/epoch - 495ms/step\n",
            "Epoch 4/30\n",
            "79/79 - 54s - loss: 0.0911 - val_loss: -5.0654e+02 - 54s/epoch - 678ms/step\n",
            "Epoch 5/30\n",
            "79/79 - 58s - loss: 0.0875 - val_loss: -5.0536e+02 - 58s/epoch - 738ms/step\n",
            "Epoch 6/30\n",
            "79/79 - 37s - loss: 0.0842 - val_loss: -5.0508e+02 - 37s/epoch - 464ms/step\n",
            "Epoch 7/30\n",
            "79/79 - 30s - loss: 0.0823 - val_loss: -5.0465e+02 - 30s/epoch - 378ms/step\n",
            "Epoch 8/30\n",
            "79/79 - 32s - loss: 0.0806 - val_loss: -5.0667e+02 - 32s/epoch - 405ms/step\n",
            "Epoch 9/30\n",
            "79/79 - 31s - loss: 0.0791 - val_loss: -5.0336e+02 - 31s/epoch - 388ms/step\n",
            "Epoch 10/30\n",
            "79/79 - 31s - loss: 0.0779 - val_loss: -5.0612e+02 - 31s/epoch - 388ms/step\n",
            "Epoch 11/30\n",
            "79/79 - 30s - loss: 0.0770 - val_loss: -5.0589e+02 - 30s/epoch - 383ms/step\n",
            "Epoch 12/30\n",
            "79/79 - 30s - loss: 0.0763 - val_loss: -5.0644e+02 - 30s/epoch - 376ms/step\n",
            "Epoch 13/30\n",
            "79/79 - 32s - loss: 0.0757 - val_loss: -5.0683e+02 - 32s/epoch - 402ms/step\n",
            "Epoch 14/30\n",
            "79/79 - 34s - loss: 0.0751 - val_loss: -5.0693e+02 - 34s/epoch - 430ms/step\n",
            "Epoch 15/30\n",
            "79/79 - 30s - loss: 0.0747 - val_loss: -5.0642e+02 - 30s/epoch - 381ms/step\n",
            "Epoch 16/30\n",
            "79/79 - 30s - loss: 0.0742 - val_loss: -5.0800e+02 - 30s/epoch - 377ms/step\n",
            "Epoch 17/30\n",
            "79/79 - 38s - loss: 0.0740 - val_loss: -5.0487e+02 - 38s/epoch - 478ms/step\n",
            "Epoch 18/30\n",
            "79/79 - 30s - loss: 0.0736 - val_loss: -5.0753e+02 - 30s/epoch - 377ms/step\n",
            "Epoch 19/30\n",
            "79/79 - 30s - loss: 0.0732 - val_loss: -5.0767e+02 - 30s/epoch - 377ms/step\n",
            "Epoch 20/30\n",
            "79/79 - 29s - loss: 0.0729 - val_loss: -5.0737e+02 - 29s/epoch - 372ms/step\n",
            "Epoch 21/30\n",
            "79/79 - 30s - loss: 0.0728 - val_loss: -5.0763e+02 - 30s/epoch - 381ms/step\n",
            "Epoch 22/30\n",
            "79/79 - 31s - loss: 0.0724 - val_loss: -5.0780e+02 - 31s/epoch - 398ms/step\n",
            "Epoch 23/30\n",
            "79/79 - 30s - loss: 0.0724 - val_loss: -5.0778e+02 - 30s/epoch - 386ms/step\n",
            "Epoch 24/30\n",
            "79/79 - 30s - loss: 0.0720 - val_loss: -5.0828e+02 - 30s/epoch - 377ms/step\n",
            "Epoch 25/30\n",
            "79/79 - 30s - loss: 0.0718 - val_loss: -5.0838e+02 - 30s/epoch - 378ms/step\n",
            "Epoch 26/30\n",
            "79/79 - 30s - loss: 0.0716 - val_loss: -5.0759e+02 - 30s/epoch - 378ms/step\n",
            "Epoch 27/30\n",
            "79/79 - 30s - loss: 0.0715 - val_loss: -5.0835e+02 - 30s/epoch - 380ms/step\n",
            "Epoch 28/30\n",
            "79/79 - 35s - loss: 0.0712 - val_loss: -5.0835e+02 - 35s/epoch - 449ms/step\n",
            "Epoch 29/30\n",
            "79/79 - 30s - loss: 0.0711 - val_loss: -5.0878e+02 - 30s/epoch - 376ms/step\n",
            "Epoch 30/30\n",
            "79/79 - 30s - loss: 0.0709 - val_loss: -5.0868e+02 - 30s/epoch - 375ms/step\n",
            "{'loss': [0.34298381209373474, 0.12374693900346756, 0.09862995892763138, 0.09110410511493683, 0.08745771646499634, 0.0842289999127388, 0.08225839585065842, 0.08059076219797134, 0.07914336770772934, 0.0779496431350708, 0.07698843628168106, 0.07629677653312683, 0.07571031898260117, 0.07512864470481873, 0.07469061762094498, 0.07419214397668839, 0.07396676391363144, 0.07359794527292252, 0.07322347909212112, 0.0729084238409996, 0.0727907046675682, 0.0724419578909874, 0.07241252064704895, 0.07200749218463898, 0.07182292640209198, 0.07156330347061157, 0.07147122174501419, 0.07120063155889511, 0.07114283740520477, 0.07089672982692719], 'val_loss': [-465.718994140625, -501.5527648925781, -505.8111877441406, -506.5443420410156, -505.3569030761719, -505.0849914550781, -504.6455993652344, -506.6658020019531, -503.3580017089844, -506.11700439453125, -505.89215087890625, -506.43548583984375, -506.8258056640625, -506.92510986328125, -506.4210510253906, -508.0037536621094, -504.87164306640625, -507.53118896484375, -507.67315673828125, -507.36614990234375, -507.6348571777344, -507.79901123046875, -507.78240966796875, -508.2840576171875, -508.37969970703125, -507.5852355957031, -508.3544616699219, -508.3499450683594, -508.7763977050781, -508.6768493652344]}\n"
          ]
        }
      ]
    },
    {
      "cell_type": "code",
      "source": [
        "random_test = np.random.randint(x_test.shape[0], size=5)\n",
        "ae_imgs = autoencoder.predict(x_test)\n",
        "\n",
        "# 시각화\n",
        "plt.figure(figsize=(7,2))\n",
        "for i, image_idx in enumerate(random_test):\n",
        "  ax = plt.subplot(2, 5, i+1)\n",
        "  plt.imshow(x_test[image_idx].reshape(28,28))\n",
        "  ax.axis('off')\n",
        "\n",
        "  ax = plt.subplot(2, 5, i + 5 + 1)\n",
        "  plt.imshow(ae_imgs[image_idx].reshape(28,28))\n",
        "  ax.axis('off')\n",
        "\n",
        "plt.show()"
      ],
      "metadata": {
        "colab": {
          "base_uri": "https://localhost:8080/",
          "height": 209
        },
        "id": "CrEGAUG9YVRo",
        "outputId": "9ea945ae-9c34-42b0-a080-2368aeba1e61"
      },
      "execution_count": 9,
      "outputs": [
        {
          "output_type": "stream",
          "name": "stdout",
          "text": [
            "313/313 [==============================] - 8s 26ms/step\n"
          ]
        },
        {
          "output_type": "display_data",
          "data": {
            "text/plain": [
              "<Figure size 700x200 with 10 Axes>"
            ],
            "image/png": "[encoded data removed]"
          },
          "metadata": {}
        }
      ]
    },
    {
      "cell_type": "code",
      "source": [
        "plt.plot(history.history['loss'], label='loss')\n",
        "plt.plot(history.history['val_loss'], label='val loss')\n",
        "plt.show()"
      ],
      "metadata": {
        "colab": {
          "base_uri": "https://localhost:8080/",
          "height": 430
        },
        "id": "C-Tw0L8bduJ4",
        "outputId": "496f2769-0559-4440-c4a5-e12915842091"
      },
      "execution_count": 12,
      "outputs": [
        {
          "output_type": "display_data",
          "data": {
            "text/plain": [
              "<Figure size 640x480 with 1 Axes>"
            ],
            "image/png": "[encoded data removed]"
          },
          "metadata": {}
        }
      ]
    }
  ]
}