{
  "nbformat": 4,
  "nbformat_minor": 0,
  "metadata": {
    "colab": {
      "provenance": [],
      "authorship_tag": "ABX9TyO1BQBBaeQ3h5/pOhYST6Gv",
      "include_colab_link": true
    },
    "kernelspec": {
      "name": "python3",
      "display_name": "Python 3"
    },
    "language_info": {
      "name": "python"
    }
  },
  "cells": [
    {
      "cell_type": "markdown",
      "metadata": {
        "id": "view-in-github",
        "colab_type": "text"
      },
      "source": [
        "<a href=\"https://colab.research.google.com/github/vitamingyu/NLP-LLM/blob/main/tf_44attension_imdb.ipynb\" target=\"_parent\"><img src=\"https://colab.research.google.com/assets/colab-badge.svg\" alt=\"Open In Colab\"/></a>"
      ]
    },
    {
      "cell_type": "code",
      "execution_count": 1,
      "metadata": {
        "id": "xZCQzSMrtc8z"
      },
      "outputs": [],
      "source": [
        "# 양방향 LSTM을 사용하는 것이 더 강력합니다. 여기에 추가적으로 어텐션 메커니즘을 사용할 수도 있습니다.\n",
        "\n",
        "from keras.datasets import imdb\n",
        "from keras.utils import to_categorical\n",
        "from keras.preprocessing.sequence import pad_sequences"
      ]
    },
    {
      "cell_type": "code",
      "source": [
        "vocab_size = 10000\n",
        "(X_train, y_train), (X_test, y_test) = imdb.load_data(num_words = vocab_size)\n",
        "print('리뷰의 최대 길이 : {}'.format(max(len(l) for l in X_train)))\n",
        "print('리뷰의 평균 길이 : {}'.format(sum(map(len, X_train))/len(X_train)))\n",
        "max_len = 500\n",
        "X_train = pad_sequences(X_train, maxlen=max_len)\n",
        "X_test = pad_sequences(X_test, maxlen=max_len)\n"
      ],
      "metadata": {
        "colab": {
          "base_uri": "https://localhost:8080/"
        },
        "id": "R6nK7mShtvze",
        "outputId": "6f3bb0d8-4b81-452f-be6b-2cda91526209"
      },
      "execution_count": 2,
      "outputs": [
        {
          "output_type": "stream",
          "name": "stdout",
          "text": [
            "Downloading data from https://storage.googleapis.com/tensorflow/tf-keras-datasets/imdb.npz\n",
            "17464789/17464789 [==============================] - 0s 0us/step\n",
            "리뷰의 최대 길이 : 2494\n",
            "리뷰의 평균 길이 : 238.71364\n"
          ]
        }
      ]
    },
    {
      "cell_type": "code",
      "source": [
        "# 바다나우 어텐션(Bahdanau Attention)\n",
        "# 어텐션 스코어 함수란 주어진 query와 모든 key에 대해서 유사도를 측정하는 함수를 말합니다.\n",
        "# 그리고 닷 프로덕트 어텐션에서는 query와 key의 유사도를 구하는 방법이 내적(dot product)이었습니다. 다음은 닷 프로덕트 어텐션의 어텐션 스코어 함수를 보여줍니다.\n",
        "\n",
        "import tensorflow as tf\n",
        "\n",
        "class BahdanauAttention(tf.keras.Model):\n",
        "  def __init__(self, units):\n",
        "    super(BahdanauAttention, self).__init__()\n",
        "    self.W1 = Dense(units)\n",
        "    self.W2 = Dense(units)\n",
        "    self.V = Dense(1)\n",
        "\n",
        "  def call(self, values, query): # 단, key와 value는 같음\n",
        "    # query shape == (batch_size, hidden size)\n",
        "    # hidden_with_time_axis shape == (batch_size, 1, hidden size)\n",
        "    # score 계산을 위해 뒤에서 할 덧셈을 위해서 차원을 변경해줍니다.\n",
        "    hidden_with_time_axis = tf.expand_dims(query, 1)\n",
        "\n",
        "    # score shape == (batch_size, max_length, 1)\n",
        "    # we get 1 at the last axis because we are applying score to self.V\n",
        "    # the shape of the tensor before applying self.V is (batch_size, max_length, units)\n",
        "    score = self.V(tf.nn.tanh(\n",
        "        self.W1(values) + self.W2(hidden_with_time_axis)))\n",
        "\n",
        "    # attention_weights shape == (batch_size, max_length, 1)\n",
        "    attention_weights = tf.nn.softmax(score, axis=1)\n",
        "\n",
        "    # context_vector shape after sum == (batch_size, hidden_size)\n",
        "    context_vector = attention_weights * values\n",
        "    context_vector = tf.reduce_sum(context_vector, axis=1)\n",
        "\n",
        "    return context_vector, attention_weights\n"
      ],
      "metadata": {
        "id": "sdnOMXpdt05W"
      },
      "execution_count": 3,
      "outputs": []
    },
    {
      "cell_type": "code",
      "source": [
        "# 양방향 LSTM + 어텐션 메커니즘(BiLSTM with Attention Mechanism)\n",
        "from keras.layers import Dense, Embedding, Bidirectional, LSTM, Concatenate, Dropout\n",
        "from keras import Input, Model\n",
        "from keras import optimizers\n",
        "import os\n",
        "\n",
        "#  케라스의 함수형 API를 사용합니다. 우선 입력층과 임베딩층을 설계합니다.\n",
        "\n",
        "sequence_input = Input(shape=(max_len,), dtype='int32')\n",
        "embedded_sequences = Embedding(vocab_size, 128, input_length=max_len, mask_zero = True)(sequence_input)\n",
        "\n",
        "lstm = Bidirectional(LSTM(64, dropout=0.5, return_sequences = True))(embedded_sequences)\n",
        "\n",
        "# 두번째 층을 설계\n",
        "lstm, forward_h, forward_c, backward_h, backward_c = Bidirectional \\\n",
        "  (LSTM(64, dropout=0.5, return_sequences=True, return_state=True))(lstm)\n",
        "\n",
        "print(lstm.shape, forward_h.shape, forward_c.shape, backward_h.shape, backward_c.shape)"
      ],
      "metadata": {
        "colab": {
          "base_uri": "https://localhost:8080/"
        },
        "id": "5Aqw_OjtuPyr",
        "outputId": "dc3379e7-0560-41c6-dc72-be9f6897c4b2"
      },
      "execution_count": 4,
      "outputs": [
        {
          "output_type": "stream",
          "name": "stdout",
          "text": [
            "(None, 500, 128) (None, 64) (None, 64) (None, 64) (None, 64)\n"
          ]
        }
      ]
    },
    {
      "cell_type": "code",
      "source": [
        "# 양방향 LSTM을 사용할 경우에는 순방향 LSTM과 역방향 LSTM 각각 은닉 상태와 셀 상태를 가지므로,\n",
        "# 양방향 LSTM의 은닉 상태와 셀 상태를 사용하려면 두 방향의 LSTM의 상태들을 연결(concatenate)해주면 됩니다.\n",
        "\n",
        "state_h = Concatenate()([forward_h, backward_h]) # 은닉 상태\n",
        "state_c = Concatenate()([forward_c, backward_c]) # 셀 상태\n",
        "\n",
        "attention = BahdanauAttention(64) # 가중치 크기 정의\n",
        "context_vector, attention_weights = attention(lstm, state_h)\n",
        "\n",
        "dense1 = Dense(20, activation=\"relu\")(context_vector)\n",
        "dropout = Dropout(0.5)(dense1)\n",
        "output = Dense(1, activation=\"sigmoid\")(dropout)\n",
        "model = Model(inputs=sequence_input, outputs=output)\n",
        "\n",
        "model.compile(loss='binary_crossentropy', optimizer='adam', metrics=['accuracy'])"
      ],
      "metadata": {
        "id": "JrmumW83umX9"
      },
      "execution_count": 6,
      "outputs": []
    },
    {
      "cell_type": "code",
      "source": [
        "history = model.fit(X_train, y_train, epochs = 3, batch_size = 256, validation_data=(X_test, y_test), verbose=1)"
      ],
      "metadata": {
        "colab": {
          "base_uri": "https://localhost:8080/"
        },
        "id": "Lwlx0ACwuu3l",
        "outputId": "17e20216-f5b6-4023-d970-e2355f6a1eeb"
      },
      "execution_count": 7,
      "outputs": [
        {
          "output_type": "stream",
          "name": "stdout",
          "text": [
            "Epoch 1/3\n",
            "98/98 [==============================] - 458s 4s/step - loss: 0.4736 - accuracy: 0.7636 - val_loss: 0.2836 - val_accuracy: 0.8826\n",
            "Epoch 2/3\n",
            "98/98 [==============================] - 463s 5s/step - loss: 0.2397 - accuracy: 0.9145 - val_loss: 0.2856 - val_accuracy: 0.8828\n",
            "Epoch 3/3\n",
            "98/98 [==============================] - 419s 4s/step - loss: 0.1900 - accuracy: 0.9361 - val_loss: 0.3303 - val_accuracy: 0.8800\n"
          ]
        }
      ]
    },
    {
      "cell_type": "code",
      "source": [
        "print(\"\\n 테스트 정확도: %.4f\" % (model.evaluate(X_test, y_test)[1]))"
      ],
      "metadata": {
        "colab": {
          "base_uri": "https://localhost:8080/"
        },
        "id": "5O8-XFL2ve8m",
        "outputId": "514cdea4-60d1-4e31-c69b-c1cf121f4b66"
      },
      "execution_count": 8,
      "outputs": [
        {
          "output_type": "stream",
          "name": "stdout",
          "text": [
            "782/782 [==============================] - 335s 429ms/step - loss: 0.3303 - accuracy: 0.8800\n",
            "\n",
            " 테스트 정확도: 0.8800\n"
          ]
        }
      ]
    },
    {
      "cell_type": "code",
      "source": [
        "# Attention 후 예측\n",
        "word_to_index = imdb.get_word_index()\n",
        "index_to_word = {}\n",
        "\n",
        "for k, value in word_to_index.items():\n",
        "  index_to_word [value] = k\n",
        "\n",
        "import re\n",
        "\n",
        "def sentiment_predict(new_sentence):\n",
        "  new_sentence = re.sub(r'[^0-9a-zA-Z ]','', new_sentence).lower()\n",
        "  encoded = []  # 정수 인코딩\n",
        "  for word in new_sentence.split():\n",
        "    try:\n",
        "      if word_to_index[word] <= 10000:\n",
        "        encoded.append(word_to_index[word] + 3)   # 0<pad>,1<sos>,2<unk>는 imdb에서 사용\n",
        "      else:\n",
        "        encoded.append(2)  # 10000 이상의 값은 <unk> 취급\n",
        "    except KeyError:\n",
        "      encoded.append(2)  # 단어 집합에 없는 경우 <unk> 취급\n",
        "\n",
        "  print('encoded : ', encoded)\n",
        "  pad_new = pad_sequences([encoded], maxlen=max_len)\n",
        "\n",
        "  # predict\n",
        "  score = float(model.predict(pad_new))\n",
        "\n",
        "  if(score > 0.5):\n",
        "    print(\"{:.2f}% 확률로 긍정\".format(score * 100))\n",
        "  else:\n",
        "    print(\"{:.2f}% 확률로 부정\".format((1 - score) * 100))\n",
        "\n",
        "print(sentiment_predict(\"The movie is so much fun, I recommend it.\"))\n",
        "print(sentiment_predict(\"It's boring and dull, and even the screenplay is a mess.\"))"
      ],
      "metadata": {
        "colab": {
          "base_uri": "https://localhost:8080/"
        },
        "id": "USbn2f8VvgMI",
        "outputId": "316d71fd-d646-4aa6-d3b3-2fc726d70268"
      },
      "execution_count": 9,
      "outputs": [
        {
          "output_type": "stream",
          "name": "stdout",
          "text": [
            "Downloading data from https://storage.googleapis.com/tensorflow/tf-keras-datasets/imdb_word_index.json\n",
            "1641221/1641221 [==============================] - 0s 0us/step\n",
            "encoded :  [4, 20, 9, 38, 76, 253, 13, 386, 12]\n",
            "1/1 [==============================] - 6s 6s/step\n",
            "53.38% 확률로 긍정\n",
            "None\n",
            "encoded :  [94, 357, 5, 753, 5, 60, 4, 881, 9, 6, 947]\n",
            "1/1 [==============================] - 0s 410ms/step\n",
            "97.17% 확률로 부정\n",
            "None\n"
          ]
        }
      ]
    },
    {
      "cell_type": "code",
      "source": [],
      "metadata": {
        "id": "Zm6IAOYXw1gr"
      },
      "execution_count": null,
      "outputs": []
    }
  ]
}